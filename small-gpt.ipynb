{
  "cells": [
    {
      "attachments": {},
      "cell_type": "markdown",
      "metadata": {},
      "source": [
        "<!-- ![image info](./Full_GPT_architecture.png) -->\n",
        "<img src=\"./Full_GPT_architecture.png\" alt=\"GPT architecture\" style=\"width:400px;height:400px;\"/>"
      ]
    },
    {
      "cell_type": "code",
      "execution_count": null,
      "metadata": {
        "id": "AJ9oebWM7cJB"
      },
      "outputs": [],
      "source": [
        "import math\n",
        "\n",
        "import torch\n",
        "import torch.nn as nn\n",
        "from torch.nn import functional as F\n",
        "\n",
        "import time\n",
        "from collections import defaultdict\n",
        "from torch.utils.data.dataloader import DataLoader\n",
        "from torch.utils.data import Dataset\n",
        "import json\n",
        "import numpy as np"
      ]
    },
    {
      "cell_type": "code",
      "execution_count": null,
      "metadata": {
        "colab": {
          "base_uri": "https://localhost:8080/"
        },
        "id": "9Yxol_Rt7cJE",
        "outputId": "3dc4b67b-3c2a-41e3-a6e0-eafaa4c5f8a9"
      },
      "outputs": [
        {
          "data": {
            "text/plain": [
              "True"
            ]
          },
          "execution_count": 2,
          "metadata": {},
          "output_type": "execute_result"
        }
      ],
      "source": [
        "torch.cuda.is_available()"
      ]
    },
    {
      "cell_type": "code",
      "execution_count": null,
      "metadata": {
        "colab": {
          "base_uri": "https://localhost:8080/"
        },
        "id": "pRvJMy017cJF",
        "outputId": "11a5f414-9334-41da-d5f5-1bf8b0f9f788"
      },
      "outputs": [
        {
          "data": {
            "text/plain": [
              "0"
            ]
          },
          "execution_count": 3,
          "metadata": {},
          "output_type": "execute_result"
        }
      ],
      "source": [
        "import gc\n",
        "torch.cuda.empty_cache()\n",
        "gc.collect()"
      ]
    },
    {
      "cell_type": "code",
      "execution_count": null,
      "metadata": {
        "id": "Bm4FS8Gp7cJF"
      },
      "outputs": [],
      "source": [
        "config = {\n",
        "    \"embed_dim\" : 16,\n",
        "    \"num_heads\" : 4,\n",
        "    \"block_size\" : 11,\n",
        "    \"attn_pdrop\" : 0.1,\n",
        "    \"resid_pdrop\" : 0.1,\n",
        "    \"vocab_size\" : 7,\n",
        "    \"embd_pdrop\" : 0.1,\n",
        "    \"n_layer\" : 6,\n",
        "    \"device\" : 'cuda',\n",
        "    \"weight_decay\" : 0.1,\n",
        "    \"learning_rate\" : 3e-4,\n",
        "    \"betas\" : (0.9, 0.95),\n",
        "    \"grad_norm_clip\" : 1.0,\n",
        "    \"batch_size\" : 4\n",
        "}"
      ]
    },
    {
      "cell_type": "code",
      "execution_count": null,
      "metadata": {
        "id": "AICoJjjq7cJG"
      },
      "outputs": [],
      "source": [
        "class MultiHeadSelfAttention(nn.Module):\n",
        "    def __init__(self, config):\n",
        "        super().__init__()\n",
        "        # key, query, value projections for all heads, but in a batch\n",
        "        self.q_attn = nn.Linear(config[\"embed_dim\"], config[\"embed_dim\"])\n",
        "        self.k_attn = nn.Linear(config[\"embed_dim\"], config[\"embed_dim\"])\n",
        "        self.v_attn = nn.Linear(config[\"embed_dim\"], config[\"embed_dim\"])\n",
        "\n",
        "        # output projection\n",
        "        self.c_proj = nn.Linear(config[\"embed_dim\"], config[\"embed_dim\"])\n",
        "        # regularization\n",
        "        self.resid_dropout = nn.Dropout(config[\"resid_pdrop\"])\n",
        "\n",
        "        #multi head attention\n",
        "        self.multihead_attn = nn.MultiheadAttention(config[\"embed_dim\"], config[\"num_heads\"], batch_first=True, dropout=config[\"attn_pdrop\"])\n",
        "\n",
        "        # causal mask to ensure that attention is only applied to the left in the input sequence\n",
        "        self.register_buffer(\"attn_mask\", torch.zeros((config[\"block_size\"], config[\"block_size\"]), dtype=torch.bool) \\\n",
        "                                    .masked_fill(torch.tril(torch.ones(config[\"block_size\"], config[\"block_size\"])) \\\n",
        "                                    .view(config[\"block_size\"], config[\"block_size\"]) \\\n",
        "                                    [:config[\"block_size\"],:config[\"block_size\"]] == 0, True))\n",
        "\n",
        "    def forward(self, x):\n",
        "        # calculate query, key, values for batch\n",
        "        q, k ,v  = self.q_attn(x), self.k_attn(x), self.v_attn(x)\n",
        "\n",
        "        # calculate self attention\n",
        "        attn_output = self.multihead_attn(query=q, key=k, value=v, attn_mask = self.attn_mask[:x.shape[1], :x.shape[1]])[0]\n",
        "\n",
        "        # output projection\n",
        "        y = self.resid_dropout(self.c_proj(attn_output))\n",
        "        return y"
      ]
    },
    {
      "cell_type": "code",
      "execution_count": null,
      "metadata": {
        "id": "vp4ktSAD7cJG"
      },
      "outputs": [],
      "source": [
        "class Block(nn.Module):\n",
        "    \"\"\"Transformer block \"\"\"\n",
        "\n",
        "    def __init__(self, config):\n",
        "        super().__init__()\n",
        "        self.ln_1 = nn.LayerNorm(config[\"embed_dim\"])\n",
        "        self.attn = MultiHeadSelfAttention(config)\n",
        "        self.ln_2 = nn.LayerNorm(config[\"embed_dim\"])\n",
        "        self.mlp = nn.ModuleDict(dict(\n",
        "            c_fc    = nn.Linear(config[\"embed_dim\"], 4 * config[\"embed_dim\"]),\n",
        "            c_proj  = nn.Linear(4 * config[\"embed_dim\"], config[\"embed_dim\"]),\n",
        "            act     = nn.GELU(),\n",
        "            dropout = nn.Dropout(config[\"resid_pdrop\"]),\n",
        "        ))\n",
        "        m = self.mlp\n",
        "        self.mlpf = lambda x: m.dropout(m.c_proj(m.act(m.c_fc(x)))) # MLP forward\n",
        "\n",
        "    def forward(self, x):\n",
        "        x = x + self.attn(self.ln_1(x))\n",
        "        x = x + self.mlpf(self.ln_2(x))\n",
        "        return x"
      ]
    },
    {
      "cell_type": "code",
      "execution_count": null,
      "metadata": {
        "id": "hUPe8dj77cJH"
      },
      "outputs": [],
      "source": [
        "class GPT(nn.Module):\n",
        "    \"\"\" GPT Language Model \"\"\"\n",
        "\n",
        "    def __init__(self, config):\n",
        "        super().__init__()\n",
        "        self.block_size = config[\"block_size\"]\n",
        "\n",
        "        self.transformer = nn.ModuleDict(dict(\n",
        "            wte = nn.Embedding(config[\"vocab_size\"], config[\"embed_dim\"]),\n",
        "            wpe = nn.Embedding(config[\"block_size\"], config[\"embed_dim\"]),\n",
        "            drop = nn.Dropout(config[\"embd_pdrop\"]),\n",
        "            h = nn.ModuleList([Block(config) for _ in range(config[\"n_layer\"])]),\n",
        "            ln_f = nn.LayerNorm(config[\"embed_dim\"]),\n",
        "        ))\n",
        "        self.lm_head = nn.Linear(config[\"embed_dim\"], config[\"vocab_size\"], bias=False)\n",
        "\n",
        "        # init all weights, and apply a special scaled init to the residual projections, per GPT-2 paper\n",
        "        self.apply(self._init_weights)\n",
        "        for pn, p in self.named_parameters():\n",
        "            if pn.endswith('c_proj.weight'):\n",
        "                torch.nn.init.normal_(p, mean=0.0, std=0.02/math.sqrt(2 * config[\"n_layer\"]))\n",
        "\n",
        "        n_params = sum(p.numel() for p in self.transformer.parameters())\n",
        "\n",
        "        param = self.lm_head.weight.shape\n",
        "        print(\"number of parameters: %.2fM\" % ((n_params+param[0]*param[1])/1e6))\n",
        "\n",
        "    def _init_weights(self, module):\n",
        "        if isinstance(module, nn.Linear):\n",
        "            torch.nn.init.normal_(module.weight, mean=0.0, std=0.02)\n",
        "            if module.bias is not None:\n",
        "                torch.nn.init.zeros_(module.bias)\n",
        "        elif isinstance(module, nn.Embedding):\n",
        "            torch.nn.init.normal_(module.weight, mean=0.0, std=0.02)\n",
        "        elif isinstance(module, nn.LayerNorm):\n",
        "            torch.nn.init.zeros_(module.bias)\n",
        "            torch.nn.init.ones_(module.weight)\n",
        "\n",
        "    def forward(self, idx, targets=None):\n",
        "        device = idx.device\n",
        "        b, t = idx.size()\n",
        "\n",
        "        pos = torch.arange(0, t, dtype=torch.long, device=device).unsqueeze(0) # shape (1, t)\n",
        "\n",
        "        # forward the GPT model itself\n",
        "        tok_emb = self.transformer.wte(idx) # token embeddings of shape (b, t, n_embd)\n",
        "        pos_emb = self.transformer.wpe(pos) # position embeddings of shape (1, t, n_embd)\n",
        "        x = self.transformer.drop(tok_emb + pos_emb)\n",
        "\n",
        "        for block in self.transformer.h:\n",
        "            x = block(x)\n",
        "        x = self.transformer.ln_f(x)\n",
        "        logits = self.lm_head(x)\n",
        "\n",
        "        # if we are given some desired targets also calculate the loss\n",
        "        loss = None\n",
        "        if targets is not None:\n",
        "            loss = F.cross_entropy(logits.view(-1, logits.size(-1)), targets.view(-1), ignore_index=-1)\n",
        "\n",
        "        return logits, loss\n",
        "\n",
        "    @torch.no_grad()\n",
        "    def generate(self, idx, max_new_tokens, temperature=1.0, do_sample=False, top_k=None):\n",
        "        for _ in range(max_new_tokens):\n",
        "            # if the sequence context is growing too long we must crop it at block_size\n",
        "            idx_cond = idx if idx.size(1) <= self.block_size else idx[:, -self.block_size:]\n",
        "            # forward the model to get the logits for the index in the sequence\n",
        "            logits, _ = self(idx_cond)\n",
        "            # pluck the logits at the final step and scale by desired temperature\n",
        "            logits = logits[:, -1, :] / temperature\n",
        "            # optionally crop the logits to only the top k options\n",
        "            if top_k is not None:\n",
        "                v, _ = torch.topk(logits, top_k)\n",
        "                logits[logits < v[:, [-1]]] = -float('Inf')\n",
        "            # apply softmax to convert logits to (normalized) probabilities\n",
        "            probs = F.softmax(logits, dim=-1)\n",
        "            # either sample from the distribution or take the most likely element\n",
        "            if do_sample:\n",
        "                idx_next = torch.multinomial(probs, num_samples=1)\n",
        "            else:\n",
        "                _, idx_next = torch.topk(probs, k=1, dim=-1)\n",
        "            # append sampled index to the running sequence and continue\n",
        "            idx = torch.cat((idx, idx_next), dim=1)\n",
        "\n",
        "        return idx\n",
        "\n",
        "    def configure_optimizers(self, config):\n",
        "        # separate out all parameters to those that will and won't experience regularizing weight decay\n",
        "        decay = set()\n",
        "        no_decay = set()\n",
        "        whitelist_weight_modules = (torch.nn.Linear, )\n",
        "        blacklist_weight_modules = (torch.nn.LayerNorm, torch.nn.Embedding)\n",
        "        for mn, m in self.named_modules():\n",
        "            for pn, p in m.named_parameters():\n",
        "                fpn = '%s.%s' % (mn, pn) if mn else pn # full param name\n",
        "                # random note: because named_modules and named_parameters are recursive\n",
        "                # we will see the same tensors p many many times. but doing it this way\n",
        "                # allows us to know which parent module any tensor p belongs to...\n",
        "                if pn.endswith('bias'):\n",
        "                    # all biases will not be decayed\n",
        "                    no_decay.add(fpn)\n",
        "                # elif pn.endswith('multihead_attn.in_proj_weight'):\n",
        "                #     decay.add(fpn)\n",
        "                elif pn.endswith('weight') and isinstance(m, whitelist_weight_modules):\n",
        "                    # weights of whitelist modules will be weight decayed\n",
        "                    decay.add(fpn)\n",
        "                elif pn.endswith('weight') and isinstance(m, blacklist_weight_modules):\n",
        "                    # weights of blacklist modules will NOT be weight decayed\n",
        "                    no_decay.add(fpn)\n",
        "\n",
        "        # validate that we considered every parameter\n",
        "        param_dict = {pn: p for pn, p in self.named_parameters()}\n",
        "        inter_params = decay & no_decay\n",
        "        union_params = decay | no_decay\n",
        "\n",
        "        assert len(inter_params) == 0, \"parameters %s made it into both decay/no_decay sets!\" % (str(inter_params), )\n",
        "        assert len(param_dict.keys() - union_params) == config[\"n_layer\"], \"parameters %s were not separated into either decay/no_decay set!\" \\\n",
        "                                                    # % (str(param_dict.keys() - union_params), )\n",
        "\n",
        "        # create the pytorch optimizer object\n",
        "        optim_groups = [\n",
        "            {\"params\": [param_dict[pn] for pn in sorted(list(decay))], \"weight_decay\": config[\"weight_decay\"]},\n",
        "            {\"params\": [param_dict[pn] for pn in sorted(list(no_decay))], \"weight_decay\": 0.0},\n",
        "        ]\n",
        "        optimizer = torch.optim.AdamW(optim_groups, lr=config[\"learning_rate\"], betas=config[\"betas\"])\n",
        "        return optimizer"
      ]
    },
    {
      "cell_type": "code",
      "execution_count": null,
      "metadata": {
        "id": "wmCvrPjb7cJI"
      },
      "outputs": [],
      "source": [
        "dct = {}\n",
        "for i in range(100):\n",
        "    lst = [6 if x>=6 else x for x in [int(np.random.rand()*6) for x in range(6)]]\n",
        "    lst_sort = sorted(lst)\n",
        "    dct[i] = {\"input\": lst + lst_sort[:-1],\n",
        "              \"output\": [-1] * 5 + lst_sort}\n",
        "\n",
        "with open(\"data.json\", \"w\") as f:\n",
        "    f.write(json.dumps(dct))"
      ]
    },
    {
      "cell_type": "code",
      "execution_count": null,
      "metadata": {
        "colab": {
          "base_uri": "https://localhost:8080/"
        },
        "id": "FmAlkotc7cJI",
        "outputId": "c4d9d51b-25be-492c-e738-a1bfe7deddb0"
      },
      "outputs": [
        {
          "data": {
            "text/plain": [
              "{'input': [2, 0, 3, 0, 2, 4, 0, 0, 2, 2, 3],\n",
              " 'output': [-1, -1, -1, -1, -1, 0, 0, 2, 2, 3, 4]}"
            ]
          },
          "execution_count": 9,
          "metadata": {},
          "output_type": "execute_result"
        }
      ],
      "source": [
        "with open(\"data.json\", \"r\") as f:\n",
        "    data = json.loads(f.read(), object_hook=lambda d: {int(k) if k.isdigit() else k: v for k, v in d.items()})\n",
        "data[0]"
      ]
    },
    {
      "cell_type": "code",
      "execution_count": null,
      "metadata": {
        "colab": {
          "base_uri": "https://localhost:8080/"
        },
        "id": "LpMUeQ8n7cJJ",
        "outputId": "a79bda32-ed8e-4a7c-d734-b4dd012b283e"
      },
      "outputs": [
        {
          "data": {
            "text/plain": [
              "100"
            ]
          },
          "execution_count": 10,
          "metadata": {},
          "output_type": "execute_result"
        }
      ],
      "source": [
        "len(data.keys())"
      ]
    },
    {
      "cell_type": "code",
      "execution_count": null,
      "metadata": {
        "id": "Ae4bZdKa7cJJ"
      },
      "outputs": [],
      "source": [
        "lst=[]\n",
        "for x in sorted(data.keys()):\n",
        "    lst.append([data[x]['input'], data[x]['output']])\n",
        "lst_train = lst[:70]\n",
        "lst_test = lst[70:]"
      ]
    },
    {
      "cell_type": "code",
      "execution_count": null,
      "metadata": {
        "id": "mceXl_Tm7cJJ"
      },
      "outputs": [],
      "source": [
        "class StockDataset(Dataset):\n",
        "    def __init__(self, train):\n",
        "        if train=='train':\n",
        "            self.data = lst_train\n",
        "            self.datatype = 'train'\n",
        "        else:\n",
        "            self.data = lst_test\n",
        "            self.datatype = 'test'\n",
        "\n",
        "    def __len__(self):\n",
        "        return len(self.data)\n",
        "\n",
        "    def __getitem__(self, idx):\n",
        "        x,y = torch.tensor(self.data[idx][0]), torch.tensor(self.data[idx][1])\n",
        "        return x, y"
      ]
    },
    {
      "cell_type": "code",
      "execution_count": null,
      "metadata": {
        "id": "EIi8pyNr7cJK"
      },
      "outputs": [],
      "source": [
        "train_dataset = StockDataset('train')\n",
        "test_dataset = StockDataset('test')\n",
        "train_dataloader = DataLoader(train_dataset,\n",
        "                            sampler=torch.utils.data.RandomSampler(train_dataset, replacement=True, num_samples=1000),\n",
        "                            shuffle=False,\n",
        "                            batch_size=config[\"batch_size\"]\n",
        "                        )\n",
        "test_dataloader = DataLoader(test_dataset,\n",
        "                            sampler=torch.utils.data.RandomSampler(test_dataset, replacement=True, num_samples=200),\n",
        "                            shuffle=False,\n",
        "                            batch_size=config[\"batch_size\"]\n",
        "                        )"
      ]
    },
    {
      "cell_type": "code",
      "execution_count": null,
      "metadata": {
        "id": "A4ckqIMW7cJK"
      },
      "outputs": [],
      "source": [
        "def train_epocs(model, optimizer, train_dataloader, epochs):\n",
        "    for i in range(epochs):\n",
        "        start_time = time.time()\n",
        "        model.train()\n",
        "        idx=0\n",
        "        sum_loss = 0\n",
        "        for x, y in train_dataloader:\n",
        "            x = x.cuda()\n",
        "            y = y.cuda()\n",
        "            logits, loss = model(x, y)\n",
        "            model.zero_grad(set_to_none=True)\n",
        "            loss.backward()\n",
        "            torch.nn.utils.clip_grad_norm_(model.parameters(), config[\"grad_norm_clip\"])\n",
        "            optimizer.step()\n",
        "            idx+=len(x)\n",
        "            sum_loss+= loss\n",
        "        print(\"Total time taken for Epoch {} is {} secs and train loss = {}\".format(i, int(time.time()-start_time), sum_loss/idx))\n",
        "    return"
      ]
    },
    {
      "cell_type": "code",
      "execution_count": null,
      "metadata": {
        "colab": {
          "base_uri": "https://localhost:8080/"
        },
        "id": "McX2_jZ07cJK",
        "outputId": "3912a800-62c5-4038-bf40-f569b8f9b8cb"
      },
      "outputs": [
        {
          "name": "stdout",
          "output_type": "stream",
          "text": [
            "number of parameters: 0.03M\n"
          ]
        }
      ],
      "source": [
        "model=GPT(config)"
      ]
    },
    {
      "cell_type": "code",
      "execution_count": null,
      "metadata": {
        "id": "y6WUnspU7cJK"
      },
      "outputs": [],
      "source": [
        "model = model.cuda()\n",
        "optimizer = model.configure_optimizers(config)"
      ]
    },
    {
      "cell_type": "code",
      "execution_count": null,
      "metadata": {
        "colab": {
          "background_save": true,
          "base_uri": "https://localhost:8080/"
        },
        "id": "bUq2ZDbu7cJK",
        "outputId": "a3b2615f-d131-42f7-bf38-0835c64f3580"
      },
      "outputs": [
        {
          "name": "stdout",
          "output_type": "stream",
          "text": [
            "Total time taken for Epoch 0 is 8 secs and train loss = 0.3883194923400879\n",
            "Total time taken for Epoch 1 is 4 secs and train loss = 0.2893466651439667\n",
            "Total time taken for Epoch 2 is 5 secs and train loss = 0.23119935393333435\n",
            "Total time taken for Epoch 3 is 4 secs and train loss = 0.19246211647987366\n",
            "Total time taken for Epoch 4 is 5 secs and train loss = 0.16221240162849426\n",
            "Total time taken for Epoch 5 is 4 secs and train loss = 0.13805975019931793\n",
            "Total time taken for Epoch 6 is 4 secs and train loss = 0.11884656548500061\n",
            "Total time taken for Epoch 7 is 5 secs and train loss = 0.10675780475139618\n",
            "Total time taken for Epoch 8 is 4 secs and train loss = 0.09984679520130157\n",
            "Total time taken for Epoch 9 is 5 secs and train loss = 0.08814658969640732\n",
            "Total time taken for Epoch 10 is 5 secs and train loss = 0.08650403469800949\n",
            "Total time taken for Epoch 11 is 5 secs and train loss = 0.07953567057847977\n",
            "Total time taken for Epoch 12 is 5 secs and train loss = 0.07388158142566681\n",
            "Total time taken for Epoch 13 is 4 secs and train loss = 0.06333591043949127\n",
            "Total time taken for Epoch 14 is 5 secs and train loss = 0.06461340188980103\n",
            "Total time taken for Epoch 15 is 4 secs and train loss = 0.05564526468515396\n",
            "Total time taken for Epoch 16 is 5 secs and train loss = 0.05368087813258171\n",
            "Total time taken for Epoch 17 is 4 secs and train loss = 0.050512634217739105\n",
            "Total time taken for Epoch 18 is 4 secs and train loss = 0.045946184545755386\n",
            "Total time taken for Epoch 19 is 5 secs and train loss = 0.04555806517601013\n"
          ]
        }
      ],
      "source": [
        "train_epocs(model, optimizer, train_dataloader, epochs=20)"
      ]
    },
    {
      "cell_type": "code",
      "execution_count": null,
      "metadata": {
        "colab": {
          "background_save": true
        },
        "id": "hwzOxIRV7cJK"
      },
      "outputs": [],
      "source": [
        "PATH = \"./sort_GPT.pt\"\n",
        "torch.save(model.state_dict(), PATH)"
      ]
    },
    {
      "cell_type": "code",
      "execution_count": null,
      "metadata": {
        "colab": {
          "background_save": true
        },
        "id": "Wzr1Zgjd7cJK",
        "outputId": "b3fef0a4-b91c-437d-83bf-254ab98c4e33"
      },
      "outputs": [
        {
          "name": "stdout",
          "output_type": "stream",
          "text": [
            "number of parameters: 0.03M\n"
          ]
        },
        {
          "data": {
            "text/plain": [
              "GPT(\n",
              "  (transformer): ModuleDict(\n",
              "    (wte): Embedding(7, 16)\n",
              "    (wpe): Embedding(11, 16)\n",
              "    (drop): Dropout(p=0.1, inplace=False)\n",
              "    (h): ModuleList(\n",
              "      (0-5): 6 x Block(\n",
              "        (ln_1): LayerNorm((16,), eps=1e-05, elementwise_affine=True)\n",
              "        (attn): MultiHeadSelfAttention(\n",
              "          (q_attn): Linear(in_features=16, out_features=16, bias=True)\n",
              "          (k_attn): Linear(in_features=16, out_features=16, bias=True)\n",
              "          (v_attn): Linear(in_features=16, out_features=16, bias=True)\n",
              "          (c_proj): Linear(in_features=16, out_features=16, bias=True)\n",
              "          (resid_dropout): Dropout(p=0.1, inplace=False)\n",
              "          (multihead_attn): MultiheadAttention(\n",
              "            (out_proj): NonDynamicallyQuantizableLinear(in_features=16, out_features=16, bias=True)\n",
              "          )\n",
              "        )\n",
              "        (ln_2): LayerNorm((16,), eps=1e-05, elementwise_affine=True)\n",
              "        (mlp): ModuleDict(\n",
              "          (c_fc): Linear(in_features=16, out_features=64, bias=True)\n",
              "          (c_proj): Linear(in_features=64, out_features=16, bias=True)\n",
              "          (act): GELU(approximate='none')\n",
              "          (dropout): Dropout(p=0.1, inplace=False)\n",
              "        )\n",
              "      )\n",
              "    )\n",
              "    (ln_f): LayerNorm((16,), eps=1e-05, elementwise_affine=True)\n",
              "  )\n",
              "  (lm_head): Linear(in_features=16, out_features=7, bias=False)\n",
              ")"
            ]
          },
          "execution_count": 19,
          "metadata": {},
          "output_type": "execute_result"
        }
      ],
      "source": [
        "model=GPT(config)\n",
        "model = model.cuda()\n",
        "PATH = \"./sort_GPT.pt\"\n",
        "model.load_state_dict(torch.load(PATH))\n",
        "model.eval()"
      ]
    },
    {
      "cell_type": "code",
      "execution_count": 22,
      "metadata": {
        "colab": {
          "base_uri": "https://localhost:8080/"
        },
        "id": "iOdnCZQ_7cJK",
        "outputId": "70d1eceb-07ca-4783-d81b-420d94ba15f4"
      },
      "outputs": [
        {
          "name": "stdout",
          "output_type": "stream",
          "text": [
            "tensor([[4, 0, 2, 1, 5, 2]], device='cuda:0')\n",
            "tensor([[0, 1, 2, 2, 4, 5]], device='cuda:0')\n"
          ]
        }
      ],
      "source": [
        "inp = torch.tensor([[4, 0, 2, 1, 5, 2]], dtype=torch.long).to('cuda')\n",
        "with torch.no_grad():\n",
        "    cat = model.generate(inp, 6, do_sample=False, temperature=.1)\n",
        "print(inp)\n",
        "print(cat[:,6:])"
      ]
    }
  ],
  "metadata": {
    "accelerator": "GPU",
    "colab": {
      "provenance": []
    },
    "kernelspec": {
      "display_name": "Python 3",
      "name": "python3"
    },
    "language_info": {
      "codemirror_mode": {
        "name": "ipython",
        "version": 3
      },
      "file_extension": ".py",
      "mimetype": "text/x-python",
      "name": "python",
      "nbconvert_exporter": "python",
      "pygments_lexer": "ipython3",
      "version": "3.6.4"
    }
  },
  "nbformat": 4,
  "nbformat_minor": 0
}
